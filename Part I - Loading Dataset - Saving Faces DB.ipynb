{
 "cells": [
  {
   "cell_type": "markdown",
   "id": "0f930ec2",
   "metadata": {},
   "source": [
    "### Partie I - Chargement de la dataset"
   ]
  },
  {
   "cell_type": "code",
   "execution_count": 1,
   "id": "44831c10",
   "metadata": {},
   "outputs": [],
   "source": [
    "from imutils import paths\n",
    "import numpy as np\n",
    "import imutils\n",
    "import cv2\n",
    "import os"
   ]
  },
  {
   "cell_type": "code",
   "execution_count": 2,
   "id": "ca109856",
   "metadata": {},
   "outputs": [],
   "source": [
    "def face_detection(image):\n",
    "  cascadePath = \"haarcascade_frontalface_default.xml\"\n",
    "  detector = cv2.CascadeClassifier(cascadePath)\n",
    "\n",
    "  gray = cv2.cvtColor(image, cv2.COLOR_BGR2GRAY)\n",
    "  rects = detector.detectMultiScale(gray, scaleFactor=1.05,\n",
    "\tminNeighbors=10, minSize=(30, 30),\n",
    "\tflags=cv2.CASCADE_SCALE_IMAGE)\n",
    "\n",
    "  return rects"
   ]
  },
  {
   "cell_type": "code",
   "execution_count": 3,
   "id": "8c04db5e",
   "metadata": {},
   "outputs": [],
   "source": [
    "def chargerDB(inputPath):\n",
    "    # get all the image paths in the dataset folder structure and grab \n",
    "    # the name(i.e. groundtruth) of all the images and count each of them\n",
    "    # and then put all of the groundtruths into a list\n",
    "    imagePaths = list(paths.list_images(inputPath))\n",
    "    names = [p.split(os.path.sep)[-2] for p in imagePaths]\n",
    "    (names , counts) = np.unique(names , return_counts = True)\n",
    "    names = names.tolist()\n",
    "\n",
    "    Imgs = []\n",
    "    labels = []\n",
    "\n",
    "    # loop over all of the image paths\n",
    "    i = 0\n",
    "    name_cp = imagePaths[0].split(os.path.sep)[-2]\n",
    "    for imagePath in imagePaths:\n",
    "        # read the image and grab the image label\n",
    "        image = cv2.imread(imagePath)\n",
    "        name = imagePath.split(os.path.sep)[-2]\n",
    "        if (name_cp != name) :\n",
    "            i = 0\n",
    "        \n",
    "        # check whether the count of this specific label is\n",
    "        # below our minSamples threshold or not\n",
    "        #if counts[names.index(name)] < minSamples:\n",
    "          #continue\n",
    "\n",
    "        # perform face detection\n",
    "        boxes = face_detection(image)\n",
    "        \n",
    "        # loop over the bounding boxes\n",
    "        for (x , y , w , h) in boxes:\n",
    "            try:\n",
    "                # extract the face ROI, resize it and convert\n",
    "                # it into grayscale format\n",
    "                faceROI = image[y:y+h , x:x+w]\n",
    "                faceROI = cv2.cvtColor(faceROI , cv2.COLOR_BGR2GRAY)\n",
    "                faceROI = cv2.resize(faceROI, (100,100))\n",
    "                \n",
    "                cv2.imwrite(\"Faces\\\\{0} {1}.jpg\".format(name,i), faceROI)\n",
    "                \n",
    "                # update the faces and labels list\n",
    "                Imgs.append(faceROI)\n",
    "                labels.append(name)\n",
    "            except:\n",
    "                continue\n",
    "            i = i+1\n",
    "        name_cp = name\n",
    "              \n",
    "    # convert the faces and labels lists into Numpy array\n",
    "    Imgs = np.array(Imgs)\n",
    "    labels = np.array(labels)\n",
    "\n",
    "    return (Imgs , labels)"
   ]
  },
  {
   "cell_type": "code",
   "execution_count": 4,
   "id": "374bffe2",
   "metadata": {},
   "outputs": [],
   "source": [
    "faces, labels = chargerDB('Dataset - Equipe Maroc')"
   ]
  },
  {
   "cell_type": "code",
   "execution_count": 16,
   "id": "55b29485",
   "metadata": {},
   "outputs": [
    {
     "name": "stdout",
     "output_type": "stream",
     "text": [
      "The mean of f1-scores is :  0.91055554\n",
      "The standard deviation of f1-scores is :  0.11769914\n"
     ]
    }
   ],
   "source": [
    "# grab the mean of f1-scores\n",
    "mu = np.mean(f1_scores)\n",
    "# grab the standard deviation of f1-scores\n",
    "sigma = np.std(f1_scores)\n",
    "\n",
    "print(\"The mean of f1-scores is : \" , mu)\n",
    "print(\"The standard deviation of f1-scores is : \" , sigma)"
   ]
  },
  {
   "cell_type": "code",
   "execution_count": 17,
   "id": "bd8dd16c",
   "metadata": {},
   "outputs": [
    {
     "data": {
      "image/png": "[encoded data removed]",
      "text/plain": [
       "<Figure size 432x288 with 1 Axes>"
      ]
     },
     "metadata": {
      "needs_background": "light"
     },
     "output_type": "display_data"
    }
   ],
   "source": [
    "# calculate and divide the normal dist. range into 100 points\n",
    "x = np.linspace(mu - 3*sigma, mu + 3*sigma, 100)\n",
    "# plot the normal dist. based on the probability distribution function \n",
    "# values \n",
    "plt.plot(x, stats.norm.pdf(x, mu, sigma))\n",
    "# save the plot in the desired directory\n",
    "#plt.savefig(\"output/model-performance/f-scores-dist.png\")\n",
    "plt.show()"
   ]
  },
  {
   "cell_type": "code",
   "execution_count": null,
   "id": "5722c7d7",
   "metadata": {},
   "outputs": [],
   "source": []
  }
 ],
 "metadata": {
  "kernelspec": {
   "display_name": "Python 3 (ipykernel)",
   "language": "python",
   "name": "python3"
  },
  "language_info": {
   "codemirror_mode": {
    "name": "ipython",
    "version": 3
   },
   "file_extension": ".py",
   "mimetype": "text/x-python",
   "name": "python",
   "nbconvert_exporter": "python",
   "pygments_lexer": "ipython3",
   "version": "3.10.6"
  }
 },
 "nbformat": 4,
 "nbformat_minor": 5
}
